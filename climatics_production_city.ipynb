{
 "cells": [
  {
   "cell_type": "code",
   "execution_count": 104,
   "metadata": {},
   "outputs": [],
   "source": [
    "import pandas as pd\n",
    "import matplotlib.pyplot as plt\n",
    "import xlrd\n",
    "import numpy as np\n",
    "xlrd.xlsx.ensure_elementtree_imported(False, None)\n",
    "xlrd.xlsx.Element_has_iter = True"
   ]
  },
  {
   "cell_type": "code",
   "execution_count": 120,
   "metadata": {},
   "outputs": [],
   "source": [
    "df_area_plantada = pd.read_excel('data/producao_milho_soja.xlsx', sheet_name='Área plantada (Hectares)', header = 0, index_col = 1)\n",
    "df_area_colhida = pd.read_excel('data/producao_milho_soja.xlsx', sheet_name='Área colhida (Hectares)', header = 0, index_col = 1)  \n",
    "df_qtd_produzida = pd.read_excel('data/producao_milho_soja.xlsx', sheet_name='Quantidade produzida (Tonela...', header = 0, index_col = 1)  "
   ]
  },
  {
   "cell_type": "code",
   "execution_count": 121,
   "metadata": {},
   "outputs": [],
   "source": [
    "df_area_plantada.columns = [''] * len(df.columns)\n",
    "df_area_colhida.columns = [''] * len(df.columns)\n",
    "df_qtd_produzida.columns = [''] * len(df.columns)"
   ]
  },
  {
   "cell_type": "code",
   "execution_count": 122,
   "metadata": {},
   "outputs": [],
   "source": [
    "df_area_plantada = df_area_plantada[3:9]\n",
    "df_area_colhida = df_area_colhida[3:9]\n",
    "df_qtd_produzida = df_qtd_produzida[3:9]"
   ]
  },
  {
   "cell_type": "code",
   "execution_count": 127,
   "metadata": {},
   "outputs": [
    {
     "data": {
      "text/html": [
       "<div>\n",
       "<style scoped>\n",
       "    .dataframe tbody tr th:only-of-type {\n",
       "        vertical-align: middle;\n",
       "    }\n",
       "\n",
       "    .dataframe tbody tr th {\n",
       "        vertical-align: top;\n",
       "    }\n",
       "\n",
       "    .dataframe thead th {\n",
       "        text-align: right;\n",
       "    }\n",
       "</style>\n",
       "<table border=\"1\" class=\"dataframe\">\n",
       "  <thead>\n",
       "    <tr style=\"text-align: right;\">\n",
       "      <th></th>\n",
       "      <th></th>\n",
       "      <th></th>\n",
       "      <th></th>\n",
       "      <th></th>\n",
       "      <th></th>\n",
       "      <th></th>\n",
       "      <th></th>\n",
       "      <th></th>\n",
       "      <th></th>\n",
       "      <th></th>\n",
       "      <th>...</th>\n",
       "      <th></th>\n",
       "      <th></th>\n",
       "      <th></th>\n",
       "      <th></th>\n",
       "      <th></th>\n",
       "      <th></th>\n",
       "      <th></th>\n",
       "      <th></th>\n",
       "      <th></th>\n",
       "      <th></th>\n",
       "    </tr>\n",
       "  </thead>\n",
       "  <tbody>\n",
       "    <tr>\n",
       "      <th>Total</th>\n",
       "      <td>NaN</td>\n",
       "      <td>Milho (em grão)</td>\n",
       "      <td>Soja (em grão)</td>\n",
       "      <td>Total</td>\n",
       "      <td>Milho (em grão)</td>\n",
       "      <td>Soja (em grão)</td>\n",
       "      <td>Total</td>\n",
       "      <td>Milho (em grão)</td>\n",
       "      <td>Soja (em grão)</td>\n",
       "      <td>Total</td>\n",
       "      <td>...</td>\n",
       "      <td>Soja (em grão)</td>\n",
       "      <td>Total</td>\n",
       "      <td>Milho (em grão)</td>\n",
       "      <td>Soja (em grão)</td>\n",
       "      <td>Total</td>\n",
       "      <td>Milho (em grão)</td>\n",
       "      <td>Soja (em grão)</td>\n",
       "      <td>Total</td>\n",
       "      <td>Milho (em grão)</td>\n",
       "      <td>Soja (em grão)</td>\n",
       "    </tr>\n",
       "  </tbody>\n",
       "</table>\n",
       "<p>1 rows × 60 columns</p>\n",
       "</div>"
      ],
      "text/plain": [
       "                                                                     \\\n",
       "Total  NaN  Milho (em grão)  Soja (em grão)  Total  Milho (em grão)   \n",
       "\n",
       "                                                                      ...  \\\n",
       "Total  Soja (em grão)  Total  Milho (em grão)  Soja (em grão)  Total  ...   \n",
       "\n",
       "                                                                      \\\n",
       "Total  Soja (em grão)  Total  Milho (em grão)  Soja (em grão)  Total   \n",
       "\n",
       "                                                                                \n",
       "Total  Milho (em grão)  Soja (em grão)  Total  Milho (em grão)  Soja (em grão)  \n",
       "\n",
       "[1 rows x 60 columns]"
      ]
     },
     "execution_count": 127,
     "metadata": {},
     "output_type": "execute_result"
    }
   ],
   "source": []
  },
  {
   "cell_type": "code",
   "execution_count": null,
   "metadata": {},
   "outputs": [],
   "source": []
  }
 ],
 "metadata": {
  "kernelspec": {
   "display_name": "Python 3",
   "language": "python",
   "name": "python3"
  },
  "language_info": {
   "codemirror_mode": {
    "name": "ipython",
    "version": 3
   },
   "file_extension": ".py",
   "mimetype": "text/x-python",
   "name": "python",
   "nbconvert_exporter": "python",
   "pygments_lexer": "ipython3",
   "version": "3.9.0"
  }
 },
 "nbformat": 4,
 "nbformat_minor": 4
}
